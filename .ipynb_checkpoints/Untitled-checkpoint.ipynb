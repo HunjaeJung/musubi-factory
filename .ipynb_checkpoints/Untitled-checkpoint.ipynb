{
 "cells": [
  {
   "cell_type": "markdown",
   "metadata": {},
   "source": [
    "# pandas \n",
    "\n",
    "**김우정**\n",
    "\n",
    "현재 0.19.1버전 [[documentation]](http://pandas.pydata.org/pandas-docs/stable/)\n",
    "\n",
    "**pandas** 는 **관계형** 또는 **레이블이있는** 데이터 작업을 쉽고 직관적으로 처리 할 수 있도록 설계된 빠르고 유연하며 표현이 풍부한 데이터 구조를 제공하는 Python 패키지\n",
    "\n",
    "**pandas**는 다양한 종류의 데이터에 적합합니다.\n",
    "- SQL 테이블 또는 Excel 스프레드 시트에서와 같이 이질적으로 유형이 지정된 열이있는 테이블 형식 데이터\n",
    "- 정렬되고 정렬되지 않은 (반드시 고정 주파수 일 필요는 없음) 시계열 데이터.\n",
    "- 행 및 열 레이블이 포함 된 임의의 행렬 데이터 (균질 유형 또는 이종 유형)\n",
    "- 다른 형태의 관찰 / 통계 데이터 세트. (데이터는 실제로 pandas 데이터 구조에 배치되기 위해 전혀 레이블링 될 필요가 없습니다)\n",
    "\n",
    "\n",
    "**pandas**의 장점\n",
    "- 부동 소수점 데이터뿐만 아니라 **누락 된 데이터** (NaN으로 표현됨)를 손쉽게 처리\n",
    "- 크기 변경 : DataFrame 및 상위 차원 개체에서 열을 **삽입하고 삭제**할 수 있습니다.\n",
    "- 자동 및 명시 적 데이터 정렬 : 개체를 레이블 세트에 명시 적으로 정렬하거나 사용자가 레이블을 무시하고 Series, DataFrame 등으로 자동으로 데이터를 계산에 사용할 수 있습니다.\n",
    "- 데이터를 집계 및 변환하기 위해 데이터 세트에 분할 적용 적용 작업을 수행하는 강력하고 유연한 그룹 별(**group by**) 기능\n",
    "- 다른 Python 및 NumPy 데이터 구조의 비정형 색인 데이터를 DataFrame 객체로 쉽게 변환 할 수 있습니다.\n",
    "- 지능형 레이블 기반 슬라이싱, 고급 인덱싱 및 대용량 데이터 세트의 하위 집합\n",
    "- 직관적 인 데이터 병합(**merge**) 및 결합(**join**)\n",
    "- 데이터 세트의 유연한 재형성\n",
    "- 축의 계층 적 레이블링 (틱당 다중 레이블을 가질 수 있음)\n",
    "- 플랫 파일 (CSV 및 구분), Excel 파일, 데이터베이스 및 초고속 HDF5 형식의 저장 /로드 데이터에서 데이터를로드하기위한 강력한 IO 도구\n",
    "- 시계열 관련 기능 : 날짜 범위 생성 및 빈도 변환, 창 이동 통계, 창 선형 회귀 이동, 날짜 이동 및 지연 등"
   ]
  },
  {
   "cell_type": "code",
   "execution_count": null,
   "metadata": {
    "collapsed": true
   },
   "outputs": [],
   "source": []
  }
 ],
 "metadata": {
  "anaconda-cloud": {},
  "kernelspec": {
   "display_name": "Python [default]",
   "language": "python",
   "name": "python2"
  },
  "language_info": {
   "codemirror_mode": {
    "name": "ipython",
    "version": 2
   },
   "file_extension": ".py",
   "mimetype": "text/x-python",
   "name": "python",
   "nbconvert_exporter": "python",
   "pygments_lexer": "ipython2",
   "version": "2.7.12"
  }
 },
 "nbformat": 4,
 "nbformat_minor": 1
}
